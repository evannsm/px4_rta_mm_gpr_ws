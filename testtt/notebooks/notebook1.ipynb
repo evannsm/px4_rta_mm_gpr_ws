{
 "cells": [
  {
   "cell_type": "code",
   "execution_count": 2,
   "id": "024c5324",
   "metadata": {},
   "outputs": [],
   "source": [
    "import control\n",
    "import jax.numpy as jnp\n",
    "import jax\n",
    "import time\n",
    "import numpy as np"
   ]
  },
  {
   "cell_type": "code",
   "execution_count": 24,
   "id": "24f2cebc",
   "metadata": {},
   "outputs": [],
   "source": [
    "# Do a double integrator with LQR control example\n",
    "A = np.array([[0, 1], [0, 0]])\n",
    "B = np.array([[0], [1]])\n",
    "Q = np.array([[1, 0], [0, 1]])\n",
    "R = np.array([[1]])"
   ]
  },
  {
   "cell_type": "code",
   "execution_count": 81,
   "id": "a6585e52",
   "metadata": {},
   "outputs": [],
   "source": [
    "def timeit(func):\n",
    "    def timing_wrapper(*args, **kwargs):\n",
    "        t0 = time.time()\n",
    "        vals = func(*args, **kwargs)\n",
    "        print(f\"Execution time was {time.time() - t0}\")\n",
    "        return vals\n",
    "    return timing_wrapper"
   ]
  },
  {
   "cell_type": "code",
   "execution_count": 88,
   "id": "1b47ff5c",
   "metadata": {},
   "outputs": [],
   "source": [
    "@timeit\n",
    "def do_lqr(A, B, Q, R):\n",
    "    return control.lqr(A, B, Q, R)\n",
    "\n",
    "@timeit\n",
    "def say_hi():\n",
    "    print(f\"HI\")\n",
    "\n",
    "@timeit\n",
    "def say_hi_name(name:str):\n",
    "    print(f\"Hello, {name}!\")\n"
   ]
  },
  {
   "cell_type": "code",
   "execution_count": 89,
   "id": "ebaedc47",
   "metadata": {},
   "outputs": [
    {
     "name": "stdout",
     "output_type": "stream",
     "text": [
      "HI\n",
      "Execution time was 8.988380432128906e-05\n"
     ]
    }
   ],
   "source": [
    "say_hi()"
   ]
  },
  {
   "cell_type": "code",
   "execution_count": 90,
   "id": "938bb429",
   "metadata": {},
   "outputs": [
    {
     "name": "stdout",
     "output_type": "stream",
     "text": [
      "Hello, Bob!\n",
      "Execution time was 0.0001513957977294922\n"
     ]
    }
   ],
   "source": [
    "say_hi_name(\"Bob\")"
   ]
  },
  {
   "cell_type": "code",
   "execution_count": 91,
   "id": "44c5da73",
   "metadata": {},
   "outputs": [
    {
     "name": "stdout",
     "output_type": "stream",
     "text": [
      "Execution time was 0.001905679702758789\n",
      "[[1.         1.73205081]]\n"
     ]
    }
   ],
   "source": [
    "K, P, _  = do_lqr(A,B,Q,R)\n",
    "print(f\"{K}\")"
   ]
  },
  {
   "cell_type": "code",
   "execution_count": 3,
   "id": "88dffd3c",
   "metadata": {},
   "outputs": [
    {
     "data": {
      "text/plain": [
       "0.2617993877991494"
      ]
     },
     "execution_count": 3,
     "metadata": {},
     "output_type": "execute_result"
    }
   ],
   "source": [
    "15 * np.pi / 180"
   ]
  },
  {
   "cell_type": "code",
   "execution_count": 7,
   "id": "bd3394ae",
   "metadata": {},
   "outputs": [],
   "source": [
    "class MyTest:\n",
    "    def __init__(self, x):\n",
    "        self.x = x\n",
    "        self.y = self.add_one(x)\n",
    "\n",
    "    def add_one(self, val):\n",
    "        return val+1"
   ]
  },
  {
   "cell_type": "code",
   "execution_count": 8,
   "id": "d2468cd6",
   "metadata": {},
   "outputs": [],
   "source": [
    "mytest = MyTest(4)"
   ]
  },
  {
   "cell_type": "code",
   "execution_count": 10,
   "id": "60db560d",
   "metadata": {},
   "outputs": [
    {
     "data": {
      "text/plain": [
       "5"
      ]
     },
     "execution_count": 10,
     "metadata": {},
     "output_type": "execute_result"
    }
   ],
   "source": [
    "mytest.y"
   ]
  },
  {
   "cell_type": "code",
   "execution_count": null,
   "id": "738d9566",
   "metadata": {},
   "outputs": [],
   "source": []
  }
 ],
 "metadata": {
  "kernelspec": {
   "display_name": "immrax",
   "language": "python",
   "name": "python3"
  },
  "language_info": {
   "codemirror_mode": {
    "name": "ipython",
    "version": 3
   },
   "file_extension": ".py",
   "mimetype": "text/x-python",
   "name": "python",
   "nbconvert_exporter": "python",
   "pygments_lexer": "ipython3",
   "version": "3.11.13"
  }
 },
 "nbformat": 4,
 "nbformat_minor": 5
}
